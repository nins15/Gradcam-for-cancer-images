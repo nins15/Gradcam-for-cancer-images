{
 "cells": [
  {
   "cell_type": "code",
   "execution_count": 1,
   "metadata": {},
   "outputs": [],
   "source": [
    "def grad_cam(input_model, image, layer_name,H=224,W=224):\n",
    "    cls = np.argmax(input_model.predict(image))\n",
    "    #cls gives the index of the predicted class i.e. one with maximum probablity\n",
    "    def normalize(x):\n",
    "        \"\"\"Utility function to normalize a tensor by its L2 norm\"\"\"\n",
    "        return (x + 1e-10) / (K.sqrt(K.mean(K.square(x))) + 1e-10)\n",
    "    \"\"\"GradCAM method for visualizing input saliency.\"\"\"\n",
    "    y_c = input_model.output[0, cls]\n",
    "    #y_c is a saliency map of the predicted class\n",
    "    conv_output = input_model.get_layer(layer_name).output\n",
    "    #conv_output is the last layer before fully connected layer .In this layer we find the importance of each feature map for a specific class by finding alpha.\n",
    "    \n",
    "    grads = K.gradients(y_c, conv_output)[0]\n",
    "    #grads = normalize(grads)--------------------------------------------------------------------------------1\n",
    "    gradient_function = K.function([input_model.input], [conv_output, grads])\n",
    "\n",
    "    output, grads_val = gradient_function([image])\n",
    "    output, grads_val = output[0, :], grads_val[0, :, :, :]\n",
    "\n",
    "    weights = np.mean(grads_val, axis=(0, 1))#weights is the alpha here---------------------------------------2\n",
    "    cam = np.dot(output, weights)\n",
    "    #print (cam)\n",
    "\n",
    "    cam = np.maximum(cam, 0)# it performs the function of Relu and eliminate negative weights------------------3\n",
    "    \n",
    "    #cam = resize(cam, (H, W))\n",
    "    cam = zoom(cam,H/cam.shape[0])\n",
    "    #cam = np.maximum(cam, 0)\n",
    "    cam = cam / cam.max()\n",
    "    return cam\n",
    "\n",
    "    "
   ]
  },
  {
   "attachments": {},
   "cell_type": "markdown",
   "metadata": {},
   "source": [
    "1) grads represent gradients of y_c wrt to each feature map of last layer before fully connected layer \n",
    "<img src=\"gradcamgrads.png\">"
   ]
  },
  {
   "attachments": {},
   "cell_type": "markdown",
   "metadata": {},
   "source": [
    "2)weigths represent \n",
    "\n",
    "<img src=\"gradcamalpha.png\"/>\n",
    "This weight represents apartial linearization of the deep network downstream from A, and captures the ‘importance’ of feature map k for a target class c"
   ]
  },
  {
   "attachments": {},
   "cell_type": "markdown",
   "metadata": {},
   "source": [
    "3)cam represent\n",
    "<img src=\"gradcamlc.png\"/>\n"
   ]
  },
  {
   "attachments": {},
   "cell_type": "markdown",
   "metadata": {},
   "source": [
    "Demo of gradcam on skin cancer image:\n",
    "\n",
    "\n",
    "Input Image\n",
    "<img src=\"input.png\">\n",
    "\n",
    "Output Image\n",
    "<img src=\"Grad-CAM.png\">"
   ]
  },
  {
   "cell_type": "code",
   "execution_count": null,
   "metadata": {},
   "outputs": [],
   "source": []
  }
 ],
 "metadata": {
  "kernelspec": {
   "display_name": "Python 2",
   "language": "python",
   "name": "python2"
  },
  "language_info": {
   "codemirror_mode": {
    "name": "ipython",
    "version": 2
   },
   "file_extension": ".py",
   "mimetype": "text/x-python",
   "name": "python",
   "nbconvert_exporter": "python",
   "pygments_lexer": "ipython2",
   "version": "2.7.15rc1"
  }
 },
 "nbformat": 4,
 "nbformat_minor": 2
}
